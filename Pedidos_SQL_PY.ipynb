{
 "cells": [
  {
   "cell_type": "code",
   "execution_count": null,
   "metadata": {},
   "outputs": [],
   "source": [
    "!pip install mysql-connector-python"
   ]
  },
  {
   "cell_type": "code",
   "execution_count": 8,
   "metadata": {},
   "outputs": [],
   "source": [
    "import mysql.connector\n",
    "import pandas as pd\n",
    "import warnings\n",
    "warnings.filterwarnings('ignore')"
   ]
  },
  {
   "cell_type": "markdown",
   "metadata": {},
   "source": [
    "## SCRIPT DE CONEXIÓN A LA BASE DE DATOS"
   ]
  },
  {
   "cell_type": "code",
   "execution_count": 5,
   "metadata": {},
   "outputs": [
    {
     "name": "stdout",
     "output_type": "stream",
     "text": [
      "Connected to MySQL database... MySQL Server version on  8.0.36-28\n",
      "MySQL connection is closed\n"
     ]
    }
   ],
   "source": [
    "try: \n",
    "    connection = mysql.connector.connect(host=host, \n",
    "                                         database=database,\n",
    "                                         user=user,\n",
    "                                         password=password, connection_timeout=180)\n",
    "\n",
    "    if connection.is_connected():\n",
    "        db_Info = connection.get_server_info()\n",
    "        print(\"Connected to MySQL database... MySQL Server version on \", db_Info)\n",
    "\n",
    "        cursor = connection.cursor()\n",
    "        connection.commit()\n",
    "\n",
    "except Error as e:\n",
    "    print(\"Error while connecting to MySQL\", e)\n",
    "finally:\n",
    "    # closing database connection.\n",
    "    if connection.is_connected():\n",
    "        cursor.close()\n",
    "        connection.close()\n",
    "        print(\"MySQL connection is closed\")"
   ]
  },
  {
   "cell_type": "markdown",
   "metadata": {},
   "source": [
    "### EJEMPLO DE CONEXIÓN A UNA BASE DE DATOS DE MYSQL"
   ]
  },
  {
   "cell_type": "code",
   "execution_count": 2,
   "metadata": {},
   "outputs": [],
   "source": [
    "from dotenv import load_dotenv\n",
    "import mysql.connector\n",
    "import os\n",
    "\n",
    "load_dotenv()\n",
    "\n",
    "host = os.getenv(\"MYSQL_HOST\")\n",
    "user = os.getenv(\"MYSQL_USER\")\n",
    "password = os.getenv(\"MYSQL_PASSWORD\")\n",
    "database = os.getenv(\"MYSQL_DATABASE\")\n",
    "\n",
    "connection = mysql.connector.connect(\n",
    "    host=host,\n",
    "    user=user,\n",
    "    password=password,\n",
    "    database=database,\n",
    "    connection_timeout=180\n",
    ")\n",
    "\n",
    "\n"
   ]
  },
  {
   "cell_type": "code",
   "execution_count": 7,
   "metadata": {},
   "outputs": [
    {
     "data": {
      "text/plain": [
       "[('01', 'Hamburguesa', 2.6),\n",
       " ('02', 'Patatas', 2.0),\n",
       " ('03', 'tomate', 0.5),\n",
       " ('04', 'Queso', 1.0),\n",
       " ('05', 'Lechuga', 0.5),\n",
       " ('06', 'Pollo', 3.6),\n",
       " ('08', 'Bacon', 1.5),\n",
       " ('09', 'Coca cola', 3.0),\n",
       " ('10', 'Nestea', 3.0),\n",
       " ('11', 'Menú de Pollo', 5.0),\n",
       " ('12', 'Menú de Hamburguesa con queso', 6.0),\n",
       " ('13', 'Menú de Pollo con queso', 6.0),\n",
       " ('14', 'Menú de Hamburguesa', 6.0),\n",
       " ('15', 'Helado', 1.0),\n",
       " ('16', 'Tarta', 2.0),\n",
       " ('17', 'Fruta', 1.0),\n",
       " ('18', 'Agua', 2.0),\n",
       " ('19', 'Fanta', 3.0)]"
      ]
     },
     "execution_count": 7,
     "metadata": {},
     "output_type": "execute_result"
    }
   ],
   "source": [
    "cursor = connection.cursor()\n",
    "query1 = ''' SELECT * FROM PRODUCTO; '''\n",
    "cursor.execute(query1)\n",
    "cursor.fetchall()"
   ]
  },
  {
   "cell_type": "code",
   "execution_count": 9,
   "metadata": {},
   "outputs": [],
   "source": [
    "pd.set_option('display.max_columns', None, 'display.max_rows', None, 'display.max_colwidth', None) # Con esta opcion podemos conseguir que Pandas no tenga limites a la hora de mostrar los datos"
   ]
  },
  {
   "cell_type": "code",
   "execution_count": 10,
   "metadata": {},
   "outputs": [
    {
     "data": {
      "text/html": [
       "<div>\n",
       "<style scoped>\n",
       "    .dataframe tbody tr th:only-of-type {\n",
       "        vertical-align: middle;\n",
       "    }\n",
       "\n",
       "    .dataframe tbody tr th {\n",
       "        vertical-align: top;\n",
       "    }\n",
       "\n",
       "    .dataframe thead th {\n",
       "        text-align: right;\n",
       "    }\n",
       "</style>\n",
       "<table border=\"1\" class=\"dataframe\">\n",
       "  <thead>\n",
       "    <tr style=\"text-align: right;\">\n",
       "      <th></th>\n",
       "      <th>Tables_in_dbgsipp7ucsuwy</th>\n",
       "    </tr>\n",
       "  </thead>\n",
       "  <tbody>\n",
       "    <tr>\n",
       "      <th>0</th>\n",
       "      <td>EMPLEADO</td>\n",
       "    </tr>\n",
       "    <tr>\n",
       "      <th>1</th>\n",
       "      <td>PEDIDO</td>\n",
       "    </tr>\n",
       "    <tr>\n",
       "      <th>2</th>\n",
       "      <td>PEDIDOS_FINALIZADOS</td>\n",
       "    </tr>\n",
       "    <tr>\n",
       "      <th>3</th>\n",
       "      <td>PRODUCTO</td>\n",
       "    </tr>\n",
       "    <tr>\n",
       "      <th>4</th>\n",
       "      <td>RANKING_PRODUCTOS</td>\n",
       "    </tr>\n",
       "    <tr>\n",
       "      <th>5</th>\n",
       "      <td>REPARTIDOR</td>\n",
       "    </tr>\n",
       "    <tr>\n",
       "      <th>6</th>\n",
       "      <td>consta</td>\n",
       "    </tr>\n",
       "    <tr>\n",
       "      <th>7</th>\n",
       "      <td>esta_compuesto</td>\n",
       "    </tr>\n",
       "    <tr>\n",
       "      <th>8</th>\n",
       "      <td>users</td>\n",
       "    </tr>\n",
       "  </tbody>\n",
       "</table>\n",
       "</div>"
      ],
      "text/plain": [
       "  Tables_in_dbgsipp7ucsuwy\n",
       "0                 EMPLEADO\n",
       "1                   PEDIDO\n",
       "2      PEDIDOS_FINALIZADOS\n",
       "3                 PRODUCTO\n",
       "4        RANKING_PRODUCTOS\n",
       "5               REPARTIDOR\n",
       "6                   consta\n",
       "7           esta_compuesto\n",
       "8                    users"
      ]
     },
     "execution_count": 10,
     "metadata": {},
     "output_type": "execute_result"
    }
   ],
   "source": [
    "connection = mysql.connector.connect(host=host, database=database, user=user, password=password, connection_timeout=180000)\n",
    "tablas = \"SHOW TABLES;\"\n",
    "df2 = pd.read_sql(tablas, connection)\n",
    "df2"
   ]
  },
  {
   "cell_type": "markdown",
   "metadata": {},
   "source": [
    "Defino esta funcion para que se llame a la conexion en todas las celdas:"
   ]
  },
  {
   "cell_type": "code",
   "execution_count": 11,
   "metadata": {},
   "outputs": [],
   "source": [
    "def query_exe(query):\n",
    "    connection = mysql.connector.connect(host=host, \n",
    "                                         database=database,\n",
    "                                         user=user,\n",
    "                                         password=password, connection_timeout=180)\n",
    "    return pd.read_sql(query, connection)\n",
    "    "
   ]
  },
  {
   "cell_type": "code",
   "execution_count": 12,
   "metadata": {},
   "outputs": [
    {
     "data": {
      "text/html": [
       "<div>\n",
       "<style scoped>\n",
       "    .dataframe tbody tr th:only-of-type {\n",
       "        vertical-align: middle;\n",
       "    }\n",
       "\n",
       "    .dataframe tbody tr th {\n",
       "        vertical-align: top;\n",
       "    }\n",
       "\n",
       "    .dataframe thead th {\n",
       "        text-align: right;\n",
       "    }\n",
       "</style>\n",
       "<table border=\"1\" class=\"dataframe\">\n",
       "  <thead>\n",
       "    <tr style=\"text-align: right;\">\n",
       "      <th></th>\n",
       "      <th>Codigo</th>\n",
       "      <th>Nombre</th>\n",
       "      <th>Precio</th>\n",
       "    </tr>\n",
       "  </thead>\n",
       "  <tbody>\n",
       "    <tr>\n",
       "      <th>0</th>\n",
       "      <td>01</td>\n",
       "      <td>Hamburguesa</td>\n",
       "      <td>2.6</td>\n",
       "    </tr>\n",
       "    <tr>\n",
       "      <th>1</th>\n",
       "      <td>02</td>\n",
       "      <td>Patatas</td>\n",
       "      <td>2.0</td>\n",
       "    </tr>\n",
       "    <tr>\n",
       "      <th>2</th>\n",
       "      <td>03</td>\n",
       "      <td>tomate</td>\n",
       "      <td>0.5</td>\n",
       "    </tr>\n",
       "    <tr>\n",
       "      <th>3</th>\n",
       "      <td>04</td>\n",
       "      <td>Queso</td>\n",
       "      <td>1.0</td>\n",
       "    </tr>\n",
       "    <tr>\n",
       "      <th>4</th>\n",
       "      <td>05</td>\n",
       "      <td>Lechuga</td>\n",
       "      <td>0.5</td>\n",
       "    </tr>\n",
       "    <tr>\n",
       "      <th>5</th>\n",
       "      <td>06</td>\n",
       "      <td>Pollo</td>\n",
       "      <td>3.6</td>\n",
       "    </tr>\n",
       "    <tr>\n",
       "      <th>6</th>\n",
       "      <td>08</td>\n",
       "      <td>Bacon</td>\n",
       "      <td>1.5</td>\n",
       "    </tr>\n",
       "    <tr>\n",
       "      <th>7</th>\n",
       "      <td>09</td>\n",
       "      <td>Coca cola</td>\n",
       "      <td>3.0</td>\n",
       "    </tr>\n",
       "    <tr>\n",
       "      <th>8</th>\n",
       "      <td>10</td>\n",
       "      <td>Nestea</td>\n",
       "      <td>3.0</td>\n",
       "    </tr>\n",
       "    <tr>\n",
       "      <th>9</th>\n",
       "      <td>11</td>\n",
       "      <td>Menú de Pollo</td>\n",
       "      <td>5.0</td>\n",
       "    </tr>\n",
       "    <tr>\n",
       "      <th>10</th>\n",
       "      <td>12</td>\n",
       "      <td>Menú de Hamburguesa con queso</td>\n",
       "      <td>6.0</td>\n",
       "    </tr>\n",
       "    <tr>\n",
       "      <th>11</th>\n",
       "      <td>13</td>\n",
       "      <td>Menú de Pollo con queso</td>\n",
       "      <td>6.0</td>\n",
       "    </tr>\n",
       "    <tr>\n",
       "      <th>12</th>\n",
       "      <td>14</td>\n",
       "      <td>Menú de Hamburguesa</td>\n",
       "      <td>6.0</td>\n",
       "    </tr>\n",
       "    <tr>\n",
       "      <th>13</th>\n",
       "      <td>15</td>\n",
       "      <td>Helado</td>\n",
       "      <td>1.0</td>\n",
       "    </tr>\n",
       "    <tr>\n",
       "      <th>14</th>\n",
       "      <td>16</td>\n",
       "      <td>Tarta</td>\n",
       "      <td>2.0</td>\n",
       "    </tr>\n",
       "    <tr>\n",
       "      <th>15</th>\n",
       "      <td>17</td>\n",
       "      <td>Fruta</td>\n",
       "      <td>1.0</td>\n",
       "    </tr>\n",
       "    <tr>\n",
       "      <th>16</th>\n",
       "      <td>18</td>\n",
       "      <td>Agua</td>\n",
       "      <td>2.0</td>\n",
       "    </tr>\n",
       "    <tr>\n",
       "      <th>17</th>\n",
       "      <td>19</td>\n",
       "      <td>Fanta</td>\n",
       "      <td>3.0</td>\n",
       "    </tr>\n",
       "  </tbody>\n",
       "</table>\n",
       "</div>"
      ],
      "text/plain": [
       "   Codigo                         Nombre  Precio\n",
       "0      01                    Hamburguesa     2.6\n",
       "1      02                        Patatas     2.0\n",
       "2      03                         tomate     0.5\n",
       "3      04                          Queso     1.0\n",
       "4      05                        Lechuga     0.5\n",
       "5      06                          Pollo     3.6\n",
       "6      08                          Bacon     1.5\n",
       "7      09                      Coca cola     3.0\n",
       "8      10                         Nestea     3.0\n",
       "9      11                  Menú de Pollo     5.0\n",
       "10     12  Menú de Hamburguesa con queso     6.0\n",
       "11     13        Menú de Pollo con queso     6.0\n",
       "12     14            Menú de Hamburguesa     6.0\n",
       "13     15                         Helado     1.0\n",
       "14     16                          Tarta     2.0\n",
       "15     17                          Fruta     1.0\n",
       "16     18                           Agua     2.0\n",
       "17     19                          Fanta     3.0"
      ]
     },
     "execution_count": 12,
     "metadata": {},
     "output_type": "execute_result"
    }
   ],
   "source": [
    "connection = mysql.connector.connect(host=host, \n",
    "                                         database=database,\n",
    "                                         user=user,\n",
    "                                         password=password, connection_timeout=180)\n",
    "df1 = pd.read_sql(query1, connection)\n",
    "df1"
   ]
  },
  {
   "cell_type": "code",
   "execution_count": 13,
   "metadata": {},
   "outputs": [],
   "source": [
    "df1.to_csv('producto.csv', index=False)"
   ]
  },
  {
   "cell_type": "code",
   "execution_count": 14,
   "metadata": {},
   "outputs": [],
   "source": [
    "pd.set_option('display.max_columns', None, 'display.max_rows', None, 'display.max_colwidth', None) # Con esta opcion, conseguimos que Pandas, no tenga limites a la hora de mostrar los datos"
   ]
  },
  {
   "cell_type": "code",
   "execution_count": 16,
   "metadata": {},
   "outputs": [
    {
     "data": {
      "text/html": [
       "<div>\n",
       "<style scoped>\n",
       "    .dataframe tbody tr th:only-of-type {\n",
       "        vertical-align: middle;\n",
       "    }\n",
       "\n",
       "    .dataframe tbody tr th {\n",
       "        vertical-align: top;\n",
       "    }\n",
       "\n",
       "    .dataframe thead th {\n",
       "        text-align: right;\n",
       "    }\n",
       "</style>\n",
       "<table border=\"1\" class=\"dataframe\">\n",
       "  <thead>\n",
       "    <tr style=\"text-align: right;\">\n",
       "      <th></th>\n",
       "      <th>TABLE_CATALOG</th>\n",
       "      <th>TABLE_SCHEMA</th>\n",
       "      <th>TABLE_NAME</th>\n",
       "      <th>TABLE_TYPE</th>\n",
       "      <th>ENGINE</th>\n",
       "      <th>VERSION</th>\n",
       "      <th>ROW_FORMAT</th>\n",
       "      <th>TABLE_ROWS</th>\n",
       "      <th>AVG_ROW_LENGTH</th>\n",
       "      <th>DATA_LENGTH</th>\n",
       "      <th>MAX_DATA_LENGTH</th>\n",
       "      <th>INDEX_LENGTH</th>\n",
       "      <th>DATA_FREE</th>\n",
       "      <th>AUTO_INCREMENT</th>\n",
       "      <th>CREATE_TIME</th>\n",
       "      <th>UPDATE_TIME</th>\n",
       "      <th>CHECK_TIME</th>\n",
       "      <th>TABLE_COLLATION</th>\n",
       "      <th>CHECKSUM</th>\n",
       "      <th>CREATE_OPTIONS</th>\n",
       "      <th>TABLE_COMMENT</th>\n",
       "    </tr>\n",
       "  </thead>\n",
       "  <tbody>\n",
       "    <tr>\n",
       "      <th>0</th>\n",
       "      <td>def</td>\n",
       "      <td>information_schema</td>\n",
       "      <td>CHARACTER_SETS</td>\n",
       "      <td>SYSTEM VIEW</td>\n",
       "      <td>None</td>\n",
       "      <td>10</td>\n",
       "      <td>None</td>\n",
       "      <td>0</td>\n",
       "      <td>0</td>\n",
       "      <td>0</td>\n",
       "      <td>0</td>\n",
       "      <td>0</td>\n",
       "      <td>0</td>\n",
       "      <td>NaN</td>\n",
       "      <td>2024-05-08 06:54:31</td>\n",
       "      <td>None</td>\n",
       "      <td>None</td>\n",
       "      <td>None</td>\n",
       "      <td>None</td>\n",
       "      <td></td>\n",
       "      <td></td>\n",
       "    </tr>\n",
       "    <tr>\n",
       "      <th>1</th>\n",
       "      <td>def</td>\n",
       "      <td>information_schema</td>\n",
       "      <td>CHECK_CONSTRAINTS</td>\n",
       "      <td>SYSTEM VIEW</td>\n",
       "      <td>None</td>\n",
       "      <td>10</td>\n",
       "      <td>None</td>\n",
       "      <td>0</td>\n",
       "      <td>0</td>\n",
       "      <td>0</td>\n",
       "      <td>0</td>\n",
       "      <td>0</td>\n",
       "      <td>0</td>\n",
       "      <td>NaN</td>\n",
       "      <td>2024-05-08 06:54:31</td>\n",
       "      <td>None</td>\n",
       "      <td>None</td>\n",
       "      <td>None</td>\n",
       "      <td>None</td>\n",
       "      <td></td>\n",
       "      <td></td>\n",
       "    </tr>\n",
       "    <tr>\n",
       "      <th>2</th>\n",
       "      <td>def</td>\n",
       "      <td>information_schema</td>\n",
       "      <td>COLLATIONS</td>\n",
       "      <td>SYSTEM VIEW</td>\n",
       "      <td>None</td>\n",
       "      <td>10</td>\n",
       "      <td>None</td>\n",
       "      <td>0</td>\n",
       "      <td>0</td>\n",
       "      <td>0</td>\n",
       "      <td>0</td>\n",
       "      <td>0</td>\n",
       "      <td>0</td>\n",
       "      <td>NaN</td>\n",
       "      <td>2024-05-08 06:54:31</td>\n",
       "      <td>None</td>\n",
       "      <td>None</td>\n",
       "      <td>None</td>\n",
       "      <td>None</td>\n",
       "      <td></td>\n",
       "      <td></td>\n",
       "    </tr>\n",
       "    <tr>\n",
       "      <th>3</th>\n",
       "      <td>def</td>\n",
       "      <td>information_schema</td>\n",
       "      <td>COLLATION_CHARACTER_SET_APPLICABILITY</td>\n",
       "      <td>SYSTEM VIEW</td>\n",
       "      <td>None</td>\n",
       "      <td>10</td>\n",
       "      <td>None</td>\n",
       "      <td>0</td>\n",
       "      <td>0</td>\n",
       "      <td>0</td>\n",
       "      <td>0</td>\n",
       "      <td>0</td>\n",
       "      <td>0</td>\n",
       "      <td>NaN</td>\n",
       "      <td>2024-05-08 06:54:31</td>\n",
       "      <td>None</td>\n",
       "      <td>None</td>\n",
       "      <td>None</td>\n",
       "      <td>None</td>\n",
       "      <td></td>\n",
       "      <td></td>\n",
       "    </tr>\n",
       "    <tr>\n",
       "      <th>4</th>\n",
       "      <td>def</td>\n",
       "      <td>information_schema</td>\n",
       "      <td>COLUMNS</td>\n",
       "      <td>SYSTEM VIEW</td>\n",
       "      <td>None</td>\n",
       "      <td>10</td>\n",
       "      <td>None</td>\n",
       "      <td>0</td>\n",
       "      <td>0</td>\n",
       "      <td>0</td>\n",
       "      <td>0</td>\n",
       "      <td>0</td>\n",
       "      <td>0</td>\n",
       "      <td>NaN</td>\n",
       "      <td>2024-05-08 06:54:31</td>\n",
       "      <td>None</td>\n",
       "      <td>None</td>\n",
       "      <td>None</td>\n",
       "      <td>None</td>\n",
       "      <td></td>\n",
       "      <td></td>\n",
       "    </tr>\n",
       "  </tbody>\n",
       "</table>\n",
       "</div>"
      ],
      "text/plain": [
       "  TABLE_CATALOG        TABLE_SCHEMA                             TABLE_NAME  \\\n",
       "0           def  information_schema                         CHARACTER_SETS   \n",
       "1           def  information_schema                      CHECK_CONSTRAINTS   \n",
       "2           def  information_schema                             COLLATIONS   \n",
       "3           def  information_schema  COLLATION_CHARACTER_SET_APPLICABILITY   \n",
       "4           def  information_schema                                COLUMNS   \n",
       "\n",
       "    TABLE_TYPE ENGINE  VERSION ROW_FORMAT  TABLE_ROWS  AVG_ROW_LENGTH  \\\n",
       "0  SYSTEM VIEW   None       10       None           0               0   \n",
       "1  SYSTEM VIEW   None       10       None           0               0   \n",
       "2  SYSTEM VIEW   None       10       None           0               0   \n",
       "3  SYSTEM VIEW   None       10       None           0               0   \n",
       "4  SYSTEM VIEW   None       10       None           0               0   \n",
       "\n",
       "   DATA_LENGTH  MAX_DATA_LENGTH  INDEX_LENGTH  DATA_FREE  AUTO_INCREMENT  \\\n",
       "0            0                0             0          0             NaN   \n",
       "1            0                0             0          0             NaN   \n",
       "2            0                0             0          0             NaN   \n",
       "3            0                0             0          0             NaN   \n",
       "4            0                0             0          0             NaN   \n",
       "\n",
       "          CREATE_TIME UPDATE_TIME CHECK_TIME TABLE_COLLATION CHECKSUM  \\\n",
       "0 2024-05-08 06:54:31        None       None            None     None   \n",
       "1 2024-05-08 06:54:31        None       None            None     None   \n",
       "2 2024-05-08 06:54:31        None       None            None     None   \n",
       "3 2024-05-08 06:54:31        None       None            None     None   \n",
       "4 2024-05-08 06:54:31        None       None            None     None   \n",
       "\n",
       "  CREATE_OPTIONS TABLE_COMMENT  \n",
       "0                               \n",
       "1                               \n",
       "2                               \n",
       "3                               \n",
       "4                               "
      ]
     },
     "execution_count": 16,
     "metadata": {},
     "output_type": "execute_result"
    }
   ],
   "source": [
    "connection = mysql.connector.connect(host=host, \n",
    "                                         database=database,\n",
    "                                         user=user,\n",
    "                                         password=password, connection_timeout=180)\n",
    "esquema = pd.read_sql(\"SELECT * FROM INFORMATION_SCHEMA.Tables\", con=connection)\n",
    "esquema.head(5)"
   ]
  },
  {
   "cell_type": "markdown",
   "metadata": {},
   "source": [
    "### Ejercicio 2"
   ]
  },
  {
   "cell_type": "markdown",
   "metadata": {},
   "source": [
    "##### Obtener el número de pedido, dni del repartidor y hora de reparto de aquellos pedidos que se toman nota después de las siete de la tarde"
   ]
  },
  {
   "cell_type": "code",
   "execution_count": 22,
   "metadata": {},
   "outputs": [
    {
     "name": "stdout",
     "output_type": "stream",
     "text": [
      "  Numero      DNI_R        Hora_rep\n",
      "0   0005  14188151T 0 days 19:45:00\n",
      "1   0006  04477744T 0 days 21:45:00\n",
      "2   0007  14188151T 0 days 23:35:00\n"
     ]
    }
   ],
   "source": [
    "query2 = \"\"\" SELECT Numero, DNI_R, Hora_rep FROM PEDIDO WHERE Hora_tm >'19:00' and Hora_rep is not null; \"\"\"\n",
    "print(query_exe(query2))"
   ]
  },
  {
   "cell_type": "markdown",
   "metadata": {},
   "source": [
    "1- Obtener el listado de todos los productos"
   ]
  },
  {
   "cell_type": "code",
   "execution_count": 24,
   "metadata": {},
   "outputs": [
    {
     "name": "stdout",
     "output_type": "stream",
     "text": [
      "   Codigo                         Nombre  Precio\n",
      "0      01                    Hamburguesa     2.6\n",
      "1      02                        Patatas     2.0\n",
      "2      03                         tomate     0.5\n",
      "3      04                          Queso     1.0\n",
      "4      05                        Lechuga     0.5\n",
      "5      06                          Pollo     3.6\n",
      "6      08                          Bacon     1.5\n",
      "7      09                      Coca cola     3.0\n",
      "8      10                         Nestea     3.0\n",
      "9      11                  Menú de Pollo     5.0\n",
      "10     12  Menú de Hamburguesa con queso     6.0\n",
      "11     13        Menú de Pollo con queso     6.0\n",
      "12     14            Menú de Hamburguesa     6.0\n",
      "13     15                         Helado     1.0\n",
      "14     16                          Tarta     2.0\n",
      "15     17                          Fruta     1.0\n",
      "16     18                           Agua     2.0\n",
      "17     19                          Fanta     3.0\n"
     ]
    }
   ],
   "source": [
    "query3 = '''SELECT * FROM PRODUCTO;'''\n",
    "print(query_exe(query3))\n",
    "    "
   ]
  },
  {
   "cell_type": "markdown",
   "metadata": {},
   "source": [
    "2-- Obtener el número de pedido, dni del repartidor y hora de reparto de aquellos pedidos que se toman nota después de las siete de la tarde."
   ]
  },
  {
   "cell_type": "code",
   "execution_count": 25,
   "metadata": {},
   "outputs": [
    {
     "name": "stdout",
     "output_type": "stream",
     "text": [
      "  N.Pedido      DNI_R            Hora\n",
      "0     0006  04477744T 0 days 21:45:00\n",
      "1     0005  14188151T 0 days 19:45:00\n",
      "2     0007  14188151T 0 days 23:35:00\n"
     ]
    }
   ],
   "source": [
    "query4 = '''SELECT p.numero AS \"N.Pedido\", p.DNI_R , p.Hora_rep AS \"Hora\" FROM PEDIDO p WHERE p.Hora_tm >= '19:00:00' and dni_r is not null;'''\n",
    "print(query_exe(query4))"
   ]
  },
  {
   "cell_type": "markdown",
   "metadata": {},
   "source": [
    "3-- Obtener todos los campos de empleados que cobran entre 900 y 1000 euros"
   ]
  },
  {
   "cell_type": "code",
   "execution_count": 26,
   "metadata": {},
   "outputs": [
    {
     "name": "stdout",
     "output_type": "stream",
     "text": [
      "         DNI                 Nombre          Nss   Turno  Salario\n",
      "0  04444444T   Úrsula Delta Camacho  11177788899  mañana    900.0\n",
      "1  11111111Q     Luis Ramírez Pardo  23445556666  mañana    900.0\n",
      "2  14111155T   Sergio Lérida Campos  55577700089   tarde   1000.0\n",
      "3  22222222S      María Sánchez Cid  11112223334   tarde   1000.0\n",
      "4  33333333M  Martín Guerrero López  33344455566   tarde   1000.0\n",
      "5  55555555J   Carmen Hernández Pío  99966633311  mañana    900.0\n",
      "6  77777777M     Pedro Jiménez Ruiz  23456785432   tarde   1000.0\n",
      "7  99999999X      Raúl Rodrigo Roca  55566677789   tarde   1000.0\n"
     ]
    }
   ],
   "source": [
    "query5 = '''SELECT * FROM EMPLEADO WHERE salario between 900 AND 1000;'''\n",
    "print(query_exe(query5))"
   ]
  },
  {
   "cell_type": "markdown",
   "metadata": {},
   "source": [
    "4-- Obtener el número de pedido e importe de aquellos que han sido registrados en el mes de noviembre de 2020 y su importe es mayor a 15 Euros."
   ]
  },
  {
   "cell_type": "code",
   "execution_count": 28,
   "metadata": {},
   "outputs": [
    {
     "name": "stdout",
     "output_type": "stream",
     "text": [
      "  numero  importe\n",
      "0   0006     23.0\n",
      "1   0009     25.0\n",
      "2   0010     45.0\n",
      "3   0011     45.0\n"
     ]
    }
   ],
   "source": [
    "query6 = '''SELECT numero, importe FROM PEDIDO WHERE fecha LIKE '2020-11-%' AND Importe > 15; '''\n",
    "print(query_exe(query6))"
   ]
  },
  {
   "cell_type": "markdown",
   "metadata": {},
   "source": [
    "5-- Obtener por cada uno de los repartidores su DNI junto a la cantidad de pedidos entregados"
   ]
  },
  {
   "cell_type": "code",
   "execution_count": 30,
   "metadata": {},
   "outputs": [
    {
     "name": "stdout",
     "output_type": "stream",
     "text": [
      "       DNI_R  Pedidos entregados\n",
      "0  04477744T                   2\n",
      "1  11245621Q                   1\n",
      "2  14188151T                   2\n",
      "3  55675675J                   1\n",
      "4  99009900J                   3\n"
     ]
    }
   ],
   "source": [
    "query7 = '''SELECT p.DNI_R, count(p.DNI_R) as \"Pedidos entregados\" FROM PEDIDO p \n",
    "INNER JOIN REPARTIDOR r ON p.DNI_R = r.DNI\n",
    "group by p.DNI_R;'''\n",
    "\n",
    "print(query_exe(query7))"
   ]
  },
  {
   "cell_type": "markdown",
   "metadata": {},
   "source": [
    "6-- Obtener por cada mes (con el formato de nombre y no de número ej. Noviembre),la cantidad de pedidos realizados"
   ]
  },
  {
   "cell_type": "code",
   "execution_count": 33,
   "metadata": {},
   "outputs": [
    {
     "name": "stdout",
     "output_type": "stream",
     "text": [
      "       month  N. Pedidos\n",
      "0    October           2\n",
      "1   November           6\n",
      "2  September           3\n"
     ]
    }
   ],
   "source": [
    "query8 = '''select date_format(p.fecha, '%M') as \"month\", count(p.numero) as \"N. Pedidos\" from PEDIDO p group by date_format(p.fecha, '%M');'''\n",
    "print(query_exe(query8))"
   ]
  },
  {
   "cell_type": "markdown",
   "metadata": {},
   "source": [
    "7-- Obtener un listado con el nombre y dni de los empleados en el mismo campo y anteponiendo el dni al nombre de la siguiente forma (ej; 45776633P, Juan Rodríguez López) que tenga turno de “tarde” o \"noche\". Ordenar el listado por dni."
   ]
  },
  {
   "cell_type": "code",
   "execution_count": 35,
   "metadata": {},
   "outputs": [
    {
     "name": "stdout",
     "output_type": "stream",
     "text": [
      "                             P.Data  Turno\n",
      "0   14111155T, Sergio Lérida Campos  tarde\n",
      "1      22222222S, María Sánchez Cid  tarde\n",
      "2  33333333M, Martín Guerrero López  tarde\n",
      "3     77777777M, Pedro Jiménez Ruiz  tarde\n",
      "4      99999999X, Raúl Rodrigo Roca  tarde\n"
     ]
    }
   ],
   "source": [
    "query9 = '''select concat(dni,', ',nombre) AS 'P.Data', Turno FROM EMPLEADO where turno = 'tarde' or 'noche' order by dni;'''\n",
    "print(query_exe(query9))"
   ]
  },
  {
   "cell_type": "markdown",
   "metadata": {},
   "source": [
    "8-- Obtener el nombre, código y precio de aquellos productos que superen o igualen la media de todos los precios. Ordenar de mayor a menor precio."
   ]
  },
  {
   "cell_type": "code",
   "execution_count": 38,
   "metadata": {},
   "outputs": [
    {
     "name": "stdout",
     "output_type": "stream",
     "text": [
      "                          nombre codigo  precio\n",
      "0                      Coca cola     09     3.0\n",
      "1                         Nestea     10     3.0\n",
      "2                          Fanta     19     3.0\n",
      "3                          Pollo     06     3.6\n",
      "4                  Menú de Pollo     11     5.0\n",
      "5  Menú de Hamburguesa con queso     12     6.0\n",
      "6        Menú de Pollo con queso     13     6.0\n",
      "7            Menú de Hamburguesa     14     6.0\n"
     ]
    }
   ],
   "source": [
    "query10 = '''select nombre, codigo, precio from PRODUCTO where precio >= (select avg(precio) from PRODUCTO) order by precio asc;'''\n",
    "print(query_exe(query10))"
   ]
  },
  {
   "cell_type": "markdown",
   "metadata": {},
   "source": [
    "9-- Obtener un listado con el nombre y DNI de los empleados que no han preparado nunca ningún pedido."
   ]
  },
  {
   "cell_type": "code",
   "execution_count": 40,
   "metadata": {},
   "outputs": [
    {
     "name": "stdout",
     "output_type": "stream",
     "text": [
      "                  nombre        DNI\n",
      "0   Sergio Lérida Campos  14111155T\n",
      "1  Martín Guerrero López  33333333M\n",
      "2   Carmen Hernández Pío  55555555J\n"
     ]
    }
   ],
   "source": [
    "query11 = '''select e.nombre, e.DNI from EMPLEADO e where e.DNI not in (select dni_ETM from PEDIDO);'''\n",
    "print(query_exe(query11))"
   ]
  },
  {
   "cell_type": "markdown",
   "metadata": {},
   "source": [
    "10-- Obtener el código, nombre y precio de los productos(estos dos últimos en el mismo campo) que están contenidos en los pedidos que ha tomado nota \"Luis\" o \"María Luisa\". Ordena el listado de mayor a menor valor por fecha del pedido."
   ]
  },
  {
   "cell_type": "code",
   "execution_count": 42,
   "metadata": {},
   "outputs": [
    {
     "name": "stdout",
     "output_type": "stream",
     "text": [
      "Empty DataFrame\n",
      "Columns: [codigo, Producto]\n",
      "Index: []\n"
     ]
    }
   ],
   "source": [
    "query12 = '''select prod.codigo, concat(prod.nombre, prod.precio) as 'Producto' FROM PRODUCTO prod, PEDIDO p WHERE p.dni_etm = (select e.dni from EMPLEADO e where e.nombre = 'Luis' or 'Maria Luisa') order by p.fecha desc;'''\n",
    "print(query_exe(query12))"
   ]
  },
  {
   "cell_type": "markdown",
   "metadata": {},
   "source": [
    "11-- Obtener por cada repartidor, su nombre, cantidad de pedidos y el tiempo medio que tardan en entregar los pedidos una vez preparados. Ordenar el listado el tiempo medio que tardan en entregarlos:"
   ]
  },
  {
   "cell_type": "code",
   "execution_count": 43,
   "metadata": {},
   "outputs": [
    {
     "name": "stdout",
     "output_type": "stream",
     "text": [
      "                  nombre  Cantidad     Media H.\n",
      "0  Alejandro Pardo López        11  167388.8889\n",
      "1     Juan Sánchez López        11  167388.8889\n",
      "2       Carmen Capel Pío        11  167388.8889\n",
      "3    Carlos Sánchez Ruíz        11  167388.8889\n",
      "4       Juan Pardo Rubio        11  167388.8889\n",
      "5  Laura Jiménez Jiménez        11  167388.8889\n"
     ]
    }
   ],
   "source": [
    "query13 = '''select r.nombre, count(p.numero) as 'Cantidad', avg(hora_rep) as 'Media H.' from REPARTIDOR r, PEDIDO p group by r.nombre order by avg(hora_rep);'''\n",
    "print(query_exe(query13))"
   ]
  },
  {
   "cell_type": "markdown",
   "metadata": {},
   "source": [
    "12-- Obtener un listado obteniendo el código, nombre y el precio de los productos cuyo precios sea el más barato o el más caro de todos."
   ]
  },
  {
   "cell_type": "code",
   "execution_count": 43,
   "metadata": {},
   "outputs": [
    {
     "name": "stdout",
     "output_type": "stream",
     "text": [
      "  codigo  precio                         nombre\n",
      "0     05     0.5                        Lechuga\n",
      "1     14     6.0            Menú de Hamburguesa\n",
      "2     12     6.0  Menú de Hamburguesa con queso\n",
      "3     13     6.0        Menú de Pollo con queso\n",
      "4     03     0.5                         tomate\n"
     ]
    }
   ],
   "source": [
    "query14 = '''select codigo, precio, nombre from PRODUCTO where precio = (select min(precio) from PRODUCTO) or precio = (select max(precio) from PRODUCTO) order by nombre;'''\n",
    "print(query_exe(query14))"
   ]
  },
  {
   "cell_type": "markdown",
   "metadata": {},
   "source": [
    "13-- Obtener por cada producto , el nombre y código el número total de pedidos en los que se encuentra teniendo en cuenta que el total de pedidos en los cuales se encuentre sea superior o igual a dos. Ordena el listado de mayor a menor número de productos."
   ]
  },
  {
   "cell_type": "code",
   "execution_count": 45,
   "metadata": {},
   "outputs": [
    {
     "name": "stdout",
     "output_type": "stream",
     "text": [
      "  codigo  precio                         nombre\n",
      "0     05     0.5                        Lechuga\n",
      "1     14     6.0            Menú de Hamburguesa\n",
      "2     12     6.0  Menú de Hamburguesa con queso\n",
      "3     13     6.0        Menú de Pollo con queso\n",
      "4     03     0.5                         tomate\n"
     ]
    }
   ],
   "source": [
    "query15 = '''select codigo, precio, nombre from PRODUCTO where precio = (select min(precio) from PRODUCTO) or precio = (select max(precio) from PRODUCTO) order by nombre;'''\n",
    "print(query_exe(query15))"
   ]
  }
 ],
 "metadata": {
  "kernelspec": {
   "display_name": "my_entorno",
   "language": "python",
   "name": "python3"
  },
  "language_info": {
   "codemirror_mode": {
    "name": "ipython",
    "version": 3
   },
   "file_extension": ".py",
   "mimetype": "text/x-python",
   "name": "python",
   "nbconvert_exporter": "python",
   "pygments_lexer": "ipython3",
   "version": "3.10.11"
  }
 },
 "nbformat": 4,
 "nbformat_minor": 2
}
