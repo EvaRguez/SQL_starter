{
 "cells": [
  {
   "cell_type": "markdown",
   "id": "f92eac8e",
   "metadata": {},
   "source": [
    "# SQL Problem Solutions for the 'Pedidos' Database\n",
    "\n",
    "This notebook provides solutions to various SQL problems using the `Pedidos` database schema. The database represents a complex order management system with multiple interrelated tables that store data about products, employees, delivery personnel, orders, and final reports. Below is an overview of the database schema:\n",
    "\n",
    "### **Database Schema Overview**\n",
    "The `Pedidos` database consists of the following tables:\n",
    "\n",
    "- **PRODUCTO**: Contains product details such as the product code, name, and price.\n",
    "  - **Columns**:\n",
    "    - `Codigo` (char(3)): Primary key representing the product code.\n",
    "    - `Nombre` (VARCHAR(50)): Unique name of the product.\n",
    "    - `Precio` (FLOAT(6,2)): Price of the product.\n",
    "\n",
    "- **EMPLEADO**: Stores employee information, including name, social security number, work shift, and salary.\n",
    "  - **Columns**:\n",
    "    - `DNI` (CHAR(9)): Primary key representing the employee's identifier.\n",
    "    - `Nombre` (VARCHAR(50)): Employee's name.\n",
    "    - `Nss` (VARCHAR(11)): Social security number.\n",
    "    - `Turno` (ENUM): Work shift, which can be 'morning', 'afternoon', or 'night'.\n",
    "    - `Salario` (FLOAT(6,2)): Salary of the employee.\n",
    "\n",
    "- **REPARTIDOR**: Stores delivery personnel details, similar to employees, but with an additional incentive attribute.\n",
    "  - **Columns**:\n",
    "    - `DNI` (CHAR(9)): Primary key representing the delivery person's identifier.\n",
    "    - `Nombre` (VARCHAR(50)): Delivery person's name.\n",
    "    - `Turno` (ENUM): Work shift ('morning', 'afternoon', 'night').\n",
    "    - `Incentivo` (FLOAT(6,2)): Incentive for deliveries.\n",
    "\n",
    "- **PEDIDO**: Represents an order, linking to employees and delivery personnel, and contains time information for tracking.\n",
    "  - **Columns**:\n",
    "    - `Numero` (CHAR(4)): Primary key representing the order number.\n",
    "    - `Fecha` (DATE): Date when the order was placed.\n",
    "    - `Importe` (FLOAT(6,2)): Amount of the order.\n",
    "    - `DNI_ETM` (CHAR(9)): Foreign key linking to the employee who took the order.\n",
    "    - `DNI_EP` (CHAR(9)): Foreign key linking to the employee who prepared the order.\n",
    "    - `DNI_R` (CHAR(9)): Foreign key linking to the delivery person.\n",
    "    - `Hora_tm`, `Hora_pre`, `Hora_rep` (TIME): Time attributes tracking different stages of order processing and delivery.\n",
    "\n",
    "- **esta_compuesto**: Represents the relationship between products and their components.\n",
    "  - **Columns**:\n",
    "    - `Codigo_P` (CHAR(3)): Primary key linking to a product.\n",
    "    - `Codigo_P_compuesto` (CHAR(3)): Primary key linking to a component of the product.\n",
    "\n",
    "- **consta**: Represents the relationship between a product and an order, indicating how many units of a product are in a specific order.\n",
    "  - **Columns**:\n",
    "    - `Codigo_Pr` (CHAR(3)): Foreign key linking to a product.\n",
    "    - `Numero_P` (CHAR(4)): Foreign key linking to an order number.\n",
    "    - `cantidad` (TINYINT): Quantity of the product in the order.\n",
    "\n",
    "- **PEDIDOS_FINALIZADOS**: Similar to the `PEDIDO` table but represents completed orders with additional details.\n",
    "  - **Columns**:\n",
    "    - Same as the `PEDIDO` table.\n",
    "    - `Tiempo_transcurrido` (TIME): The time elapsed from order creation to completion.\n",
    "\n",
    "- **RANKING_PRODUCTOS**: Tracks the ranking of products based on sales or other criteria.\n",
    "  - **Columns**:\n",
    "    - `Codigo` (CHAR(3)): Primary key representing the product code.\n",
    "    - `Nombre` (VARCHAR(50)): Unique name of the product.\n",
    "    - `Total` (INT): Total number representing the rank of the product.\n",
    "\n",
    "### **Purpose of the Notebook**\n",
    "This notebook is designed to solve a series of SQL problems using the schema described above. Each problem is presented with a detailed SQL query and, where applicable, relevant analysis or comments on the results.\n",
    "\n",
    "The queries below illustrate various operations such as filtering, joining, aggregating, and subqueries. By following along with the notebook, you will gain insight into SQL techniques used to extract meaningful information from relational databases.\n",
    "\n",
    "Let's get started with the problem solutions below.\n"
   ]
  },
  {
   "cell_type": "markdown",
   "id": "3546f71f",
   "metadata": {},
   "source": [
    "1- Get the list of all products "
   ]
  },
  {
   "cell_type": "code",
   "execution_count": null,
   "id": "239d4690",
   "metadata": {},
   "outputs": [],
   "source": [
    "%%sql\n",
    "SELECT * FROM producto;\n",
    "\n"
   ]
  },
  {
   "cell_type": "markdown",
   "id": "a1442543",
   "metadata": {},
   "source": [
    "2- Get the order number, delivery person's ID, and delivery time for orders noted after 7 PM."
   ]
  },
  {
   "cell_type": "code",
   "execution_count": null,
   "id": "5d10e3cf",
   "metadata": {},
   "outputs": [],
   "source": [
    "%%sql\n",
    "SELECT p.numero AS \"N.Pedido\", p.DNI_R , p.Hora_rep AS \"Hora\" FROM pedido p WHERE p.Hora_tm >= '19:00:00' and dni_r is not null;\n",
    "\n"
   ]
  },
  {
   "cell_type": "markdown",
   "id": "4d68b3be",
   "metadata": {},
   "source": [
    "3- Get all fields of employees earning between 900 and 1000 euros"
   ]
  },
  {
   "cell_type": "code",
   "execution_count": null,
   "id": "0ae7f06c",
   "metadata": {},
   "outputs": [],
   "source": [
    "%%sql\n",
    "SELECT * FROM empleado WHERE salario between 900 AND 1000;\n",
    "\n"
   ]
  },
  {
   "cell_type": "markdown",
   "id": "05ebce25",
   "metadata": {},
   "source": [
    "4- Get the order number and amount for orders registered in November 2020 with an amount greater than 15 Euros."
   ]
  },
  {
   "cell_type": "code",
   "execution_count": null,
   "id": "b09c3e7d",
   "metadata": {},
   "outputs": [],
   "source": [
    "%%sql\n",
    "SELECT numero, importe FROM pedido WHERE fecha LIKE '2020-11-%' AND Importe > 15; \n",
    "\n"
   ]
  },
  {
   "cell_type": "markdown",
   "id": "7d3fb664",
   "metadata": {},
   "source": [
    "5- Get each delivery person's ID along with the number of orders delivered"
   ]
  },
  {
   "cell_type": "code",
   "execution_count": null,
   "id": "378a08e6",
   "metadata": {},
   "outputs": [],
   "source": [
    "%%sql\n",
    "SELECT p.DNI_R, count(p.DNI_R) as \"Pedidos entregados\" FROM pedido p \n",
    "INNER JOIN repartidor r ON p.DNI_R = r.DNI\n",
    "group by p.DNI_R;\n",
    "\n"
   ]
  },
  {
   "cell_type": "markdown",
   "id": "1333c2ac",
   "metadata": {},
   "source": [
    "6- Get the number of orders completed each month (formatted with the month name instead of the number, e.g., November)"
   ]
  },
  {
   "cell_type": "code",
   "execution_count": null,
   "id": "62d054e9",
   "metadata": {},
   "outputs": [],
   "source": [
    "%%sql\n",
    "select date_format(p.fecha, '%M') as \"month\", count(p.numero) as \"N. Pedidos\" from pedido p\n",
    "group by date_format(p.fecha, '%M'); -- Try grouping by year\n",
    "\n"
   ]
  },
  {
   "cell_type": "markdown",
   "id": "55b55d90",
   "metadata": {},
   "source": [
    "7- Get a list with the name and ID of employees in the same field, with the ID preceding the name in the following format (e.g., 45776633P, Juan Rodríguez López) for employees with a \"tarde\" (afternoon) or \"noche\" (night) shift. Sort the list by ID."
   ]
  },
  {
   "cell_type": "code",
   "execution_count": null,
   "id": "b85167c9",
   "metadata": {},
   "outputs": [],
   "source": [
    "%%sql\n",
    "select concat(dni,', ',nombre) AS 'P.Data', Turno FROM empleado where turno = 'tarde' or 'noche' order by dni;\n",
    "\n"
   ]
  },
  {
   "cell_type": "markdown",
   "id": "0574ef1b",
   "metadata": {},
   "source": [
    "8- Get the name, code, and price of products whose price is greater than or equal to the average price. Order from highest to lowest price."
   ]
  },
  {
   "cell_type": "code",
   "execution_count": null,
   "id": "a585401f",
   "metadata": {},
   "outputs": [],
   "source": [
    "%%sql\n",
    "select nombre, codigo, precio from producto where precio >= (select avg(precio) from producto) order by precio asc;\n",
    "\n"
   ]
  },
  {
   "cell_type": "markdown",
   "id": "57c2d316",
   "metadata": {},
   "source": [
    "9- Get a list with the name and ID of employees who have never prepared any orders."
   ]
  },
  {
   "cell_type": "code",
   "execution_count": null,
   "id": "dbc75b60",
   "metadata": {},
   "outputs": [],
   "source": [
    "%%sql\n",
    "select e.nombre, e.DNI from empleado e where e.DNI not in (select dni_ETM from pedido);\n",
    "\n"
   ]
  },
  {
   "cell_type": "markdown",
   "id": "ff189c9f",
   "metadata": {},
   "source": [
    "10- Get the code, name, and price of products (last two in the same field) that are part of orders noted by \"Luis\" or \"María Luisa\". Order the list from highest to lowest value by order date."
   ]
  },
  {
   "cell_type": "code",
   "execution_count": null,
   "id": "2564ecbe",
   "metadata": {},
   "outputs": [],
   "source": [
    "%%sql\n",
    "select prod.codigo, concat(prod.nombre, prod.precio) as 'Producto' FROM producto prod, pedido p WHERE p.dni_etm = (select e.dni from empleado e where e.nombre = 'Luis' or 'Maria Luisa') order by p.fecha desc;\n",
    "\n"
   ]
  },
  {
   "cell_type": "markdown",
   "id": "bff7d162",
   "metadata": {},
   "source": [
    "11- Get each delivery person's name, number of orders delivered, and average time it takes to deliver orders after they are prepared. Sort the list by average delivery time."
   ]
  },
  {
   "cell_type": "code",
   "execution_count": null,
   "id": "b8e9c2a9",
   "metadata": {},
   "outputs": [],
   "source": [
    "%%sql\n",
    "select r.nombre, count(p.numero) as 'Cantidad', avg(hora_rep) as 'Media H.' from repartidor r, pedido p group by r.nombre order by avg(hora_rep);\n",
    "\n"
   ]
  },
  {
   "cell_type": "markdown",
   "id": "c842eecf",
   "metadata": {},
   "source": [
    "12- Get a list with the code, name, and price of the products that are the cheapest or most expensive of all. Sort the list by name."
   ]
  },
  {
   "cell_type": "code",
   "execution_count": null,
   "id": "2efae497",
   "metadata": {},
   "outputs": [],
   "source": [
    "%%sql\n",
    "select codigo, precio, nombre from producto where precio = (select min(precio) from producto) or precio = (select max(precio) from producto) order by nombre;\n",
    "\n"
   ]
  },
  {
   "cell_type": "markdown",
   "id": "647b4b5d",
   "metadata": {},
   "source": [
    "13- Get each product's name and code, along with the total number of orders in which it is included, provided that the total is greater than or equal to two. Order the list from highest to lowest number of orders."
   ]
  },
  {
   "cell_type": "code",
   "execution_count": null,
   "id": "ffb427a6",
   "metadata": {},
   "outputs": [],
   "source": [
    "%%sql\n",
    "SELECT PR.nombre, PR.codigo, count(P.Numero) as cantidad_pedidos \n",
    "FROM PEDIDO P, PRODUCTO PR, consta C\n",
    "WHERE P.numero = C.numero_P\n",
    "AND PR.codigo = C.codigo_Pr\n",
    "GROUP BY PR.codigo\n",
    "HAVING cantidad_pedidos>=2\n",
    "ORDER BY cantidad_pedidos DESC;\n",
    "\n"
   ]
  },
  {
   "cell_type": "markdown",
   "id": "103e4e76",
   "metadata": {},
   "source": [
    "14- Show a list of employees (name and NSS in the same column) who have noted any orders that include the product with code 13 and were delivered by the delivery person named 'Laura'."
   ]
  },
  {
   "cell_type": "code",
   "execution_count": null,
   "id": "b26fc70c",
   "metadata": {},
   "outputs": [],
   "source": [
    "%%sql\n",
    "SELECT concat(e.nombre, ', ', e.Nss) AS 'Empleados' FROM empleado e \n",
    "INNER JOIN pedido p ON e.DNI = p.DNI_ETM\n",
    "INNER JOIN consta c ON p.Numero = c.Numero_P \n",
    "INNER JOIN repartidor r ON p.DNI_R =  r.DNI \n",
    "WHERE r.Nombre = 'Laura' AND c.Codigo_pr = '13';\n",
    "\n"
   ]
  },
  {
   "cell_type": "markdown",
   "id": "18ffa311",
   "metadata": {},
   "source": [
    "15- Get the name of menu products along with the code of the products that compose them in orders from September 2020."
   ]
  },
  {
   "cell_type": "code",
   "execution_count": null,
   "id": "fb1ab607",
   "metadata": {},
   "outputs": [],
   "source": [
    "%%sql\n",
    "use pedidos;\n",
    "select comp.Codigo_P_compuesto AS 'Nº', p.Nombre, group_concat(comp.Codigo_P) AS 'Ingredients' \n",
    "FROM esta_compuesto comp\n",
    "JOIN producto p on comp.Codigo_P_compuesto = p.Codigo\n",
    "JOIN consta on Codigo_Pr = p.Codigo\n",
    "JOIN pedido on Numero_p = Numero\n",
    "WHERE Fecha LIKE '2020-09-%' \n",
    "group by comp.Codigo_P_compuesto;\n",
    "\n"
   ]
  },
  {
   "cell_type": "markdown",
   "id": "698d34d3",
   "metadata": {},
   "source": [
    "16- Insert the following data into the PEDIDO table, ensuring that only the necessary values are inserted into the corresponding fields."
   ]
  },
  {
   "cell_type": "code",
   "execution_count": null,
   "id": "a9bed761",
   "metadata": {},
   "outputs": [],
   "source": [
    "%%sql\n",
    "use pedidos;\n",
    "INSERT INTO pedido (Numero, Fecha, Importe, DNI_ETM, DNI_EP, DNI_R, Hora_tm, Hora_pre, Hora_rep)\n",
    "VALUES ('0012', '2020-11-16', 20.00, (SELECT DNI FROM empleado WHERE DNI = '03232323P'), (SELECT DNI FROM empleado WHERE DNI = '04444444T'), NULL, '18:00:00', '18:03:00', NULL);\n",
    "INSERT INTO pedido (Numero, Fecha, Importe, DNI_ETM, DNI_EP, DNI_R, Hora_tm, Hora_pre, Hora_rep)\n",
    "VALUES ('0013', '2021-01-01', 67.00, (SELECT DNI FROM empleado WHERE DNI = '55555555L'), NULL, NULL, '14:00:00', NULL, NULL);\n",
    "INSERT INTO pedido (Numero, Fecha, Importe, DNI_ETM, DNI_EP, DNI_R, Hora_tm, Hora_pre, Hora_rep)\n",
    "VALUES ('0014', '2021-01-15', 13.00, (SELECT DNI FROM empleado WHERE DNI = '99999999X'), (SELECT DNI FROM empleado WHERE DNI = '55555555J'), (SELECT DNI FROM repartidor WHERE DNI = '04477744T'), '21:20:00', '21:30:00', '21:51:00');\n",
    "\n"
   ]
  },
  {
   "cell_type": "markdown",
   "id": "c350b8d7",
   "metadata": {},
   "source": [
    "17- Increase the amount of all orders by 10% for those completed in November 2020."
   ]
  },
  {
   "cell_type": "code",
   "execution_count": null,
   "id": "24f56579",
   "metadata": {},
   "outputs": [],
   "source": [
    "%%sql\n",
    "use pedidos;\n",
    "UPDATE pedido\n",
    "SET Importe = Importe * 1.10\n",
    "WHERE Fecha LIKE '2020-11-%';\n",
    "\n"
   ]
  },
  {
   "cell_type": "markdown",
   "id": "990c525d",
   "metadata": {},
   "source": [
    "18- Delete orders with a delivery time of 25 minutes or more (from the time they were prepared) that were assigned to the delivery person named Alejandro Pardo López."
   ]
  },
  {
   "cell_type": "code",
   "execution_count": null,
   "id": "3388cebb",
   "metadata": {},
   "outputs": [],
   "source": [
    "%%sql\n",
    "use pedidos;\n",
    "DELETE FROM pedido\n",
    "WHERE TIMESTAMPDIFF(MINUTE, Hora_pre, Hora_rep) >= 25\n",
    "AND DNI_R = (SELECT DNI FROM repartidor WHERE nombre = 'Alejandro Pardo López');\n",
    "\n"
   ]
  },
  {
   "cell_type": "markdown",
   "id": "89e36d19",
   "metadata": {},
   "source": [
    "19- Increase the incentive of delivery personnel by 50 euros for those who have delivered two or more orders."
   ]
  },
  {
   "cell_type": "code",
   "execution_count": null,
   "id": "fe290073",
   "metadata": {},
   "outputs": [],
   "source": [
    "%%sql\n",
    "use pedidos;\n",
    "UPDATE repartidor \n",
    "SET Incentivo = Incentivo + 50.00\n",
    "WHERE DNI IN (SELECT DNI_R FROM pedido GROUP BY DNI_R HAVING COUNT(*) >= 2);\n",
    "\n"
   ]
  },
  {
   "cell_type": "markdown",
   "id": "5091373d",
   "metadata": {},
   "source": [
    "20- Insert all delivered orders into the PEDIDOS_FINALIZADOS table, including, in addition to the fields of the orders table, the time elapsed from noting to delivery."
   ]
  },
  {
   "cell_type": "code",
   "execution_count": null,
   "id": "8213bd28",
   "metadata": {},
   "outputs": [],
   "source": [
    "%%sql\n",
    "use pedidos;\n",
    "INSERT INTO PEDIDOS_FINALIZADOS (Numero, Fecha, Importe, DNI_ETM, DNI_EP, DNI_R, Hora_tm, Hora_pre, Hora_rep, Tiempo_transcurrido)\n",
    "SELECT Numero, Fecha, Importe, DNI_ETM, DNI_EP, DNI_R, Hora_tm, Hora_pre, Hora_rep, TIMEDIFF(Hora_rep, Hora_tm) AS Tiempo_transcurrido\n",
    "FROM PEDIDO\n",
    "WHERE Hora_rep IS NOT NULL;\n",
    "\n"
   ]
  },
  {
   "cell_type": "markdown",
   "id": "da3b0d3a",
   "metadata": {},
   "source": [
    "21- Insert into the RANKING_PRODUCTOS table each product's code, name, and the total quantity ordered."
   ]
  },
  {
   "cell_type": "code",
   "execution_count": null,
   "id": "844ebe69",
   "metadata": {},
   "outputs": [],
   "source": [
    "%%sql\n",
    "INSERT INTO RANKING_PRODUCTOS (Codigo, Nombre, Total)\n",
    "SELECT p.Codigo, p.Nombre, SUM(c.cantidad) AS Total\n",
    "FROM PRODUCTO p\n",
    "JOIN consta c ON p.Codigo = c.Codigo_Pr\n",
    "GROUP BY p.Codigo, p.Nombre;\n",
    "\n"
   ]
  },
  {
   "cell_type": "markdown",
   "id": "f7fbee81",
   "metadata": {},
   "source": [
    "22- Increase the salary of employees by 10 euros if they have noted any orders. Additionally, these employees must have also prepared an order."
   ]
  },
  {
   "cell_type": "code",
   "execution_count": null,
   "id": "54a77369",
   "metadata": {},
   "outputs": [],
   "source": [
    "%%sql\n",
    "use pedidos;\n",
    "UPDATE empleado\n",
    "SET salario = salario + 10\n",
    "WHERE dni in (select DNI_etm from pedido) \n",
    "AND dni in (select DNI_ep from pedido);\n"
   ]
  }
 ],
 "metadata": {
  "language_info": {
   "name": "python"
  }
 },
 "nbformat": 4,
 "nbformat_minor": 5
}
